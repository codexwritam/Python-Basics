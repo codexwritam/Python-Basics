{
  "nbformat": 4,
  "nbformat_minor": 0,
  "metadata": {
    "colab": {
      "provenance": []
    },
    "kernelspec": {
      "name": "python3",
      "display_name": "Python 3"
    },
    "language_info": {
      "name": "python"
    }
  },
  "cells": [
    {
      "cell_type": "markdown",
      "source": [
        "1. What are data structures, and why are they important?\n",
        "- Data structures are ways to organize and store data so that it can be accessed and modified efficiently. They are important because they help in managing and processing data quickly, especially in complex programs and large datasets.\n",
        "2. Explain the difference between mutable and immutable data types with examples.\n",
        "- Mutable: Can be changed after creation. Example: List, Dictionary, Set\n",
        "- Immutable: Cannot be changed after creation. Example: Tuple, String, Integer\n",
        "3. What are the main differences between lists and tuples in Python?\n",
        "- Lists are mutable, tuples are immutable.\n",
        "- Lists use square brackets [], tuples use parentheses ().\n",
        "4. Tuples are generally faster than lists.\n",
        "- Describe how dictionaries store data.\n",
        "Dictionaries store data in key-value pairs. Each key is unique and maps to a value. Example: {'name': 'Alice', 'age': 25}\n",
        "5. Why might you use a set instead of a list in Python?\n",
        "- Sets are used to store unique items. They automatically remove duplicates and allow for fast membership testing.\n",
        "6. What is a string in Python, and how is it different from a list?\n",
        "- A string is a sequence of characters. Unlike lists, strings are immutable and can only contain characters, not mixed data types.\n",
        "7. How do tuples ensure data integrity in Python?\n",
        "- Since tuples are immutable, their values cannot be changed. This ensures that the data remains constant throughout the program.\n",
        "8. What is a hash table, and how does it relate to dictionaries in Python?\n",
        "- A hash table is a data structure that maps keys to values using a hash function. Python dictionaries are implemented using hash tables.\n",
        "9. Can lists contain different data types in Python?\n",
        "- Yes, Python lists can contain elements of different data types, such as integers, strings, and other lists.\n",
        "10. Explain why strings are immutable in Python.\n",
        "- Strings are immutable to ensure consistency and safety in programs. When a string is changed, a new string is created in memory.\n",
        "11. What advantages do dictionaries offer over lists for certain tasks?\n",
        "- Dictionaries offer faster lookups using keys and are better for data that can be identified by unique keys, like user data or configurations.\n",
        "12. Describe a scenario where using a tuple would be preferable over a list.\n",
        "- When data should not be changed, like coordinates (x, y) or constant values passed around in a program, a tuple is preferable.\n",
        "13. How do sets handle duplicate values in Python?\n",
        "- Sets automatically remove duplicate values. If you add a duplicate to a set, it will not be included.\n",
        "14. How does the “in” keyword work differently for lists and dictionaries?\n",
        "- In lists: checks if a value exists in the list.\n",
        "- In dictionaries: checks if a key exists in the dictionary.\n",
        "15. Can you modify the elements of a tuple? Explain why or why not.\n",
        "- No, tuples are immutable. Once created, their elements cannot be modified, added, or removed.\n",
        "16. What is a nested dictionary, and give an example of its use case?\n",
        "- A nested dictionary is a dictionary inside another dictionary.Example:\n",
        "- students = {\n",
        "    '101': {'name': 'Alice', 'marks': 85},\n",
        "    '102': {'name': 'Bob', 'marks': 90}\n",
        "}\n",
        "\n",
        "- It is useful for storing structured data like student records.\n",
        "\n",
        "17. Describe the time complexity of accessing elements in a dictionary.\n",
        "- Accessing elements in a dictionary is generally O(1), which means constant time due to the use of hash tables.\n",
        "18. In what situations are lists preferred over dictionaries?\n",
        "- Lists are preferred when the order of elements matters or when data doesn't need to be labeled with keys.\n",
        "19. Why are dictionaries considered unordered, and how does that affect data retrieval?\n",
        "- Before Python 3.7, dictionaries did not maintain insertion order. Now they do, but logically they are considered unordered, meaning keys are not accessed by index but by name.\n",
        "20. Explain the difference between a list and a dictionary in terms of data retrieval.\n",
        "- Lists use index-based retrieval (e.g., list[0])\n",
        "Dictionaries use key-based retrieval (e.g., dict['name']), which is faster for large datasets.\n",
        "\n"
      ],
      "metadata": {
        "id": "LMNg9lL1dcRT"
      }
    }
  ]
}