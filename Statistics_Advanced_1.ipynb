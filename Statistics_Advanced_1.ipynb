{
  "nbformat": 4,
  "nbformat_minor": 0,
  "metadata": {
    "colab": {
      "provenance": []
    },
    "kernelspec": {
      "name": "python3",
      "display_name": "Python 3"
    },
    "language_info": {
      "name": "python"
    }
  },
  "cells": [
    {
      "cell_type": "markdown",
      "source": [
        "1. What is a random variable in probability theory?\n",
        "- A random variable is a function that assigns a numerical value to each outcome of a random experiment. It converts outcomes (like dice rolls or coin tosses) into numbers that we can analyze.\n",
        "\n",
        "2. What are the types of random variables?\n",
        "- Two main types:\n",
        "\n",
        "= Discrete random variables — take a countable set of values (e.g., 0,1,2,...).\n",
        "\n",
        "- Continuous random variables — take any value in an interval (e.g., real numbers between 0 and 1).\n",
        "\n",
        "3. Explain the difference between discrete and continuous distributions.\n",
        "\n",
        "- Discrete distribution: Probability is assigned to specific values (e.g., P(X=2)). Example: Binomial, Poisson.\n",
        "\n",
        "= Continuous distribution: Probability is described over intervals using a density function. The probability of a single exact value is effectively zero; we use integrals over intervals. Example: Normal distribution.\n",
        "\n",
        "4. What is a binomial distribution, and how is it used in probability?\n",
        "- A binomial distribution models the number of successes in a fixed number of independent trials where each trial has the same probability of success\n",
        "𝑝\n",
        "p. Use it when you have repeated yes/no experiments (e.g., number of heads in 10 coin tosses).\n",
        "\n",
        "5. What is the standard normal distribution, and why is it important?\n",
        "- The standard normal distribution is a Normal distribution with mean 0 and standard deviation 1. It is important because many statistical methods standardize values (z-scores) and many sampling distributions are approximately normal; standard tables and z-scores make inference easier.\n",
        "\n",
        "6. What is the Central Limit Theorem (CLT), and why is it critical in statistics?\n",
        "- The CLT states that the sampling distribution of the sample mean (or sum) tends to a normal distribution as sample size increases, regardless of the original distribution (given finite variance). This is critical because it allows us to use normal-based inference (confidence intervals, hypothesis tests) even if the underlying data are not normal — provided the sample size is large enough.\n",
        "\n",
        "7. What is the significance of confidence intervals in statistical analysis?\n",
        "- A confidence interval gives a range of plausible values for an unknown parameter (like the population mean) together with a confidence level (e.g., 95%). It shows both an estimate and the uncertainty around that estimate.\n",
        "\n",
        "8. What is the concept of expected value in a probability distribution?\n",
        "- The expected value (mean) of a random variable is the long-run average value you would expect if an experiment is repeated many times. It’s the probability-weighted average of all possible values.\n",
        "\n"
      ],
      "metadata": {
        "id": "HCffCOfIEqCZ"
      }
    },
    {
      "cell_type": "code",
      "source": [
        "# 9: Write a Python program to generate 1000 random numbers from a normal\n",
        "# distribution with mean = 50 and standard deviation = 5. Compute its mean and standard\n",
        "# deviation using NumPy, and draw a histogram to visualize the distribution.\n",
        "import numpy as np\n",
        "import matplotlib.pyplot as plt\n",
        "\n",
        "np.random.seed(42)\n",
        "samples = np.random.normal(50, 5, 1000)\n",
        "mean_samples = np.mean(samples)\n",
        "std_samples = np.std(samples, ddof=1)\n",
        "\n",
        "print(\"Calculated mean:\", mean_samples)\n",
        "print(\"Calculated std (sample ddof=1):\", std_samples)\n",
        "\n",
        "plt.hist(samples, bins=30)\n",
        "plt.title(\"Histogram of 1000 samples from N(50, 5)\")\n",
        "plt.xlabel(\"Value\")\n",
        "plt.ylabel(\"Frequency\")\n",
        "plt.show()\n",
        "\n"
      ],
      "metadata": {
        "colab": {
          "base_uri": "https://localhost:8080/",
          "height": 507
        },
        "id": "B4mT1pm_F0o7",
        "outputId": "0f2ae27a-1d6b-4e79-b68a-756fc000c95b"
      },
      "execution_count": 1,
      "outputs": [
        {
          "output_type": "stream",
          "name": "stdout",
          "text": [
            "Calculated mean: 50.096660279111624\n",
            "Calculated std (sample ddof=1): 4.896079690898378\n"
          ]
        },
        {
          "output_type": "display_data",
          "data": {
            "text/plain": [
              "<Figure size 640x480 with 1 Axes>"
            ],
            "image/png": "[encoded data removed]"
          },
          "metadata": {}
        }
      ]
    },
    {
      "cell_type": "code",
      "source": [
        "# 10. You are working as a data analyst for a retail company. The company has\n",
        "# collected daily sales data for 2 years and wants you to identify the overall sales trend.\n",
        "# daily_sales = [220, 245, 210, 265, 230, 250, 260, 275, 240, 255,\n",
        "# 235, 260, 245, 250, 225, 270, 265, 255, 250, 260]\n",
        "# ● Explain how you would apply the Central Limit Theorem to estimate the average sales\n",
        "# with a 95% confidence interval.\n",
        "# ● Write the Python code to compute the mean sales and its confidence interval.\n",
        "import numpy as np, math\n",
        "daily_sales = [220,245,210,265,230,250,260,275,240,255,235,260,245,250,225,270,265,255,250,260]\n",
        "arr = np.array(daily_sales)\n",
        "mean_sales = np.mean(arr)\n",
        "sd_sales = np.std(arr, ddof=1)\n",
        "n = len(arr)\n",
        "se = sd_sales / math.sqrt(n)\n",
        "z = 1.96   # 95% z-value (CLT-based). For small samples, t-critical is preferred.\n",
        "ci_lower = mean_sales - z * se\n",
        "ci_upper = mean_sales + z * se\n",
        "\n",
        "print(\"n =\", n)\n",
        "print(\"Mean sales =\", mean_sales)\n",
        "print(\"Sample sd =\", sd_sales)\n",
        "print(\"Standard error =\", se)\n",
        "print(\"95% CI (z-approx):\", (ci_lower, ci_upper))\n"
      ],
      "metadata": {
        "colab": {
          "base_uri": "https://localhost:8080/"
        },
        "id": "6mt-zBnlG2NE",
        "outputId": "bb80f567-79a2-498c-cce2-94bcbb848128"
      },
      "execution_count": 2,
      "outputs": [
        {
          "output_type": "stream",
          "name": "stdout",
          "text": [
            "n = 20\n",
            "Mean sales = 248.25\n",
            "Sample sd = 17.26534405284638\n",
            "Standard error = 3.860648295708623\n",
            "95% CI (z-approx): (np.float64(240.68312934041109), np.float64(255.81687065958891))\n"
          ]
        }
      ]
    }
  ]
}