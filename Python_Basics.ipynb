{
  "nbformat": 4,
  "nbformat_minor": 0,
  "metadata": {
    "colab": {
      "provenance": []
    },
    "kernelspec": {
      "name": "python3",
      "display_name": "Python 3"
    },
    "language_info": {
      "name": "python"
    }
  },
  "cells": [
    {
      "cell_type": "markdown",
      "source": [
        "1. What is Python, and why is it popular?\n",
        "- Python is a high-level, interpreted programming language known for its simplicity and readability. It is popular because it has a simple syntax similar to English, supports multiple programming paradigms, and has a large community with many libraries for web development, data science, machine learning, automation, etc.\n",
        "2. What is an interpreter in Python?\n",
        "- An interpreter in Python is a program that reads and executes the code line by line. It converts the high-level Python code into machine-level instructions.\n",
        "3. What are pre-defined keywords in Python?\n",
        "- Pre-defined keywords in Python are reserved words that have special meaning and cannot be used as variable names.We can easily access but we can't modify their functionality. Examples include if, else, while, for, def, import, True, False, etc.\n",
        "4. Can keywords be used as variable names?\n",
        "- No, keywords cannot be used as variable names in Python because they are reserved by the language to perform specific functions.\n",
        "5. What is mutability in Python?\n",
        "- Mutability refers to whether an object can be changed after it is created. If an object is mutable, its internal values can be changed without creating a new object in memory.\n",
        "6. Why are lists mutable, but tuples are immutable?\n",
        "- Lists are designed to store a collection of items that may need to be changed, so they are mutable. Tuples are designed to store a collection of items that will never be modified, so they are immutable.\n",
        "7. What is the difference between “==” and “is” operators in Python?\n",
        "- '==' checks if the values of two variables are equal but 'is' checks if two variables point to the same object in memory.\n",
        "8. What are logical operators in Python?\n",
        "- Logical operators are used to combine conditional statements. They include:\n",
        "\n",
        " - and: Returns True if both conditions are True.\n",
        "\n",
        " - or: Returns True if at least one condition is True.\n",
        "\n",
        " - not: Reverses the result.\n",
        "9. What is type casting in Python?\n",
        "- Type casting is the process of converting one data type into another datatype.\n",
        "10. What is the difference between implicit and explicit type casting?\n",
        "- Implicit casting is done automatically by Python, such as converting an integer to a float during calculations.\n",
        "\n",
        "- Explicit casting is done manually by the programmer using functions like int(), float(), str(), etc.\n",
        "11. What is the purpose of conditional statements in Python?\n",
        "- Conditional statements allow the program to make decisions and execute different blocks of code based on certain conditions.\n",
        "12. How does the elif statement work?\n",
        "- The 'elif' statement checks another condition in case the previous 'if' condition is False. It allows multiple conditions to be checked sequentially.\n",
        "13. What is the difference between for and while loops?\n",
        "- for loop is used when we know in advance how many times we want to run a block of code.\n",
        "- while loop is used when the number of iterations is not known and depends on a condition.\n",
        "14. Describe a scenario where a while loop is more suitable than a for loop.\n",
        "- A while loop is more suitable when we want to keep asking the user for input until they provide a valid value.\n",
        "\n",
        "\n",
        "\n",
        "\n"
      ],
      "metadata": {
        "id": "EZNku7oqS0MT"
      }
    },
    {
      "cell_type": "code",
      "source": [
        "#1 Write a Python program to print \"Hello, World!\"\n",
        "print(\"Hello, World!\")\n",
        "#2 Write a Python program that displays your name and age8\n",
        "name = \"Writam\"\n",
        "age = 22\n",
        "print(\"My name is\", name, \"and I am\", age, \"years old.\")"
      ],
      "metadata": {
        "colab": {
          "base_uri": "https://localhost:8080/"
        },
        "collapsed": true,
        "id": "FakCW2_9jGbX",
        "outputId": "36f8a287-e7b2-4b8c-efbe-032bc5d2c91c"
      },
      "execution_count": 2,
      "outputs": [
        {
          "output_type": "stream",
          "name": "stdout",
          "text": [
            "Hello, World!\n",
            "My name is Writam and I am 22 years old.\n"
          ]
        }
      ]
    },
    {
      "cell_type": "code",
      "source": [
        "#3 Write code to print all the pre-defined keywords in Python using the keyword library8\n",
        "import keyword\n",
        "print(keyword.kwlist)\n",
        "#or\n",
        "help(\"keywords\")"
      ],
      "metadata": {
        "colab": {
          "base_uri": "https://localhost:8080/"
        },
        "collapsed": true,
        "id": "n4xQaRCNkiyb",
        "outputId": "700c46d2-61b8-475a-c128-53290ced3f7e"
      },
      "execution_count": 3,
      "outputs": [
        {
          "output_type": "stream",
          "name": "stdout",
          "text": [
            "['False', 'None', 'True', 'and', 'as', 'assert', 'async', 'await', 'break', 'class', 'continue', 'def', 'del', 'elif', 'else', 'except', 'finally', 'for', 'from', 'global', 'if', 'import', 'in', 'is', 'lambda', 'nonlocal', 'not', 'or', 'pass', 'raise', 'return', 'try', 'while', 'with', 'yield']\n",
            "\n",
            "Here is a list of the Python keywords.  Enter any keyword to get more help.\n",
            "\n",
            "False               class               from                or\n",
            "None                continue            global              pass\n",
            "True                def                 if                  raise\n",
            "and                 del                 import              return\n",
            "as                  elif                in                  try\n",
            "assert              else                is                  while\n",
            "async               except              lambda              with\n",
            "await               finally             nonlocal            yield\n",
            "break               for                 not                 \n",
            "\n"
          ]
        }
      ]
    },
    {
      "cell_type": "code",
      "source": [
        "#4 Write a program that checks if a given word is a Python keyword.\n",
        "import keyword\n",
        "word = input(\"Enter a word: \")\n",
        "print(keyword.iskeyword(word))\n"
      ],
      "metadata": {
        "colab": {
          "base_uri": "https://localhost:8080/"
        },
        "collapsed": true,
        "id": "TzlzYivymKXt",
        "outputId": "e6b6d8df-72cb-423d-9247-3800ae6de4e6"
      },
      "execution_count": 7,
      "outputs": [
        {
          "output_type": "stream",
          "name": "stdout",
          "text": [
            "Enter a word: if\n",
            "True\n"
          ]
        }
      ]
    },
    {
      "cell_type": "code",
      "source": [
        "\"\"\"5. Create a list and tuple in Python, and demonstrate how attempting to change an element works differently\n",
        "for each.\"\"\"\n",
        "my_list = [1, 2, 3]\n",
        "my_tuple = (1, 2, 3)\n",
        "my_list[0] = 10\n",
        "# my_tuple[0] = 10  #error\n",
        "print(\"List:\", my_list)\n",
        "print(\"Tuple:\", my_tuple)\n"
      ],
      "metadata": {
        "colab": {
          "base_uri": "https://localhost:8080/"
        },
        "collapsed": true,
        "id": "SX3JALnenJSg",
        "outputId": "a1206407-5e6f-4fae-ce0a-5082e40a7872"
      },
      "execution_count": 6,
      "outputs": [
        {
          "output_type": "stream",
          "name": "stdout",
          "text": [
            "List: [10, 2, 3]\n",
            "Tuple: (1, 2, 3)\n"
          ]
        }
      ]
    },
    {
      "cell_type": "code",
      "source": [
        "#6  Write a function to demonstrate the behavior of mutable and immutable arguments.\n",
        "def modify_list(lst):\n",
        "    lst.append(4)\n",
        "\n",
        "def modify_number(num):\n",
        "    num += 10\n",
        "\n",
        "l = [1, 2, 3]\n",
        "n = 5\n",
        "modify_list(l)\n",
        "modify_number(n)\n",
        "print(l)\n",
        "print(n)"
      ],
      "metadata": {
        "colab": {
          "base_uri": "https://localhost:8080/"
        },
        "collapsed": true,
        "id": "aNOmJIVpq0kL",
        "outputId": "9f1ef848-c2d8-41b8-c429-681ffd037afa"
      },
      "execution_count": 8,
      "outputs": [
        {
          "output_type": "stream",
          "name": "stdout",
          "text": [
            "[1, 2, 3, 4]\n",
            "5\n"
          ]
        }
      ]
    },
    {
      "cell_type": "code",
      "source": [
        "#7  Write a program that performs basic arithmetic operations on two user-input numbers.\n",
        "a = int(input(\"Enter first number: \"))\n",
        "b = int(input(\"Enter second number: \"))\n",
        "print(\"Sum:\", a + b)\n",
        "print(\"Difference:\", a - b)\n",
        "print(\"Product:\", a * b)\n",
        "print(\"Quotient:\", a / b)"
      ],
      "metadata": {
        "colab": {
          "base_uri": "https://localhost:8080/"
        },
        "collapsed": true,
        "id": "VAlnmz3crR0t",
        "outputId": "fd40f85b-61e6-4fbc-c7f6-17b174179aa6"
      },
      "execution_count": 9,
      "outputs": [
        {
          "output_type": "stream",
          "name": "stdout",
          "text": [
            "Enter first number: 7\n",
            "Enter second number: 9\n",
            "Sum: 16\n",
            "Difference: -2\n",
            "Product: 63\n",
            "Quotient: 0.7777777777777778\n"
          ]
        }
      ]
    },
    {
      "cell_type": "code",
      "source": [
        "#8 Write a program to demonstrate the use of logical operators.\n",
        "a = 10\n",
        "b = 20\n",
        "print(a > 5 and b < 30)\n",
        "print(a < 5 or b > 10)\n",
        "print(not(a == b))"
      ],
      "metadata": {
        "colab": {
          "base_uri": "https://localhost:8080/"
        },
        "collapsed": true,
        "id": "Lml1EKTXrkjh",
        "outputId": "522178df-6502-4c03-e802-f4444c9ab097"
      },
      "execution_count": 10,
      "outputs": [
        {
          "output_type": "stream",
          "name": "stdout",
          "text": [
            "True\n",
            "True\n",
            "True\n"
          ]
        }
      ]
    },
    {
      "cell_type": "code",
      "source": [
        "#9 Write a Python program to convert user input from string to integer, float, and boolean types.\n",
        "s = input(\"Enter a number: \")\n",
        "print(int(s), float(s), bool(s))"
      ],
      "metadata": {
        "colab": {
          "base_uri": "https://localhost:8080/"
        },
        "collapsed": true,
        "id": "dynLkc9frxWw",
        "outputId": "863eb254-4865-4efb-a35f-157f6fc78703"
      },
      "execution_count": 11,
      "outputs": [
        {
          "output_type": "stream",
          "name": "stdout",
          "text": [
            "Enter a number: 9\n",
            "9 9.0 True\n"
          ]
        }
      ]
    },
    {
      "cell_type": "code",
      "source": [
        "#10 Write code to demonstrate type casting with list elements.\n",
        "lst = [\"1\", \"2\", \"3\"]\n",
        "int_lst = [int(i) for i in lst]\n",
        "print(int_lst)"
      ],
      "metadata": {
        "colab": {
          "base_uri": "https://localhost:8080/"
        },
        "collapsed": true,
        "id": "3f3qnfYfsBR8",
        "outputId": "bccfb564-1cc7-4aba-b45d-011dd3d67a91"
      },
      "execution_count": 12,
      "outputs": [
        {
          "output_type": "stream",
          "name": "stdout",
          "text": [
            "[1, 2, 3]\n"
          ]
        }
      ]
    },
    {
      "cell_type": "code",
      "source": [
        "#11  Write a program that checks if a number is positive, negative, or zero.\n",
        "n = int(input(\"Enter a number: \"))\n",
        "if n > 0:\n",
        "    print(\"Positive\")\n",
        "elif n < 0:\n",
        "    print(\"Negative\")\n",
        "else:\n",
        "    print(\"Zero\")"
      ],
      "metadata": {
        "colab": {
          "base_uri": "https://localhost:8080/"
        },
        "collapsed": true,
        "id": "2YHVCeKmsOk4",
        "outputId": "d49e212c-1065-4ea0-d4bc-de235cb51910"
      },
      "execution_count": 13,
      "outputs": [
        {
          "output_type": "stream",
          "name": "stdout",
          "text": [
            "Enter a number: 9\n",
            "Positive\n"
          ]
        }
      ]
    },
    {
      "cell_type": "code",
      "source": [
        "#12 Write a for loop to print numbers from 1 to 10.\n",
        "for i in range(1, 11):\n",
        "    print(i)"
      ],
      "metadata": {
        "colab": {
          "base_uri": "https://localhost:8080/"
        },
        "collapsed": true,
        "id": "bZkQaJ12sbF-",
        "outputId": "4af47639-2052-4d3f-c67c-667497606b78"
      },
      "execution_count": 14,
      "outputs": [
        {
          "output_type": "stream",
          "name": "stdout",
          "text": [
            "1\n",
            "2\n",
            "3\n",
            "4\n",
            "5\n",
            "6\n",
            "7\n",
            "8\n",
            "9\n",
            "10\n"
          ]
        }
      ]
    },
    {
      "cell_type": "code",
      "source": [
        "#13  Write a Python program to find the sum of all even numbers between 1 and 50.\n",
        "total = 0\n",
        "for i in range(1, 51):\n",
        "    if i % 2 == 0:\n",
        "        total += i\n",
        "print(\"Sum of even numbers:\", total)"
      ],
      "metadata": {
        "colab": {
          "base_uri": "https://localhost:8080/"
        },
        "collapsed": true,
        "id": "qSg81Ed8skgY",
        "outputId": "7fff9abf-de8f-43fc-fcaa-a7c149a40db2"
      },
      "execution_count": 15,
      "outputs": [
        {
          "output_type": "stream",
          "name": "stdout",
          "text": [
            "Sum of even numbers: 650\n"
          ]
        }
      ]
    },
    {
      "cell_type": "code",
      "source": [
        "#14 Write a program to reverse a string using a while loop.\n",
        "s = input(\"Enter a string: \")\n",
        "i = len(s) - 1\n",
        "rev = \"\"\n",
        "while i >= 0:\n",
        "    rev += s[i]\n",
        "    i -= 1\n",
        "print(\"Reversed string:\", rev)"
      ],
      "metadata": {
        "colab": {
          "base_uri": "https://localhost:8080/"
        },
        "collapsed": true,
        "id": "NtOzgTMYspm3",
        "outputId": "1327034e-ca67-41a3-dc37-d1aa391323cc"
      },
      "execution_count": 16,
      "outputs": [
        {
          "output_type": "stream",
          "name": "stdout",
          "text": [
            "Enter a string: Writam\n",
            "Reversed string: matirW\n"
          ]
        }
      ]
    },
    {
      "cell_type": "code",
      "source": [
        "#15 Write a Python program to calculate the factorial of a number provided by the user using a while loop.\n",
        "n = int(input(\"Enter a number: \"))\n",
        "fact = 1\n",
        "i = 1\n",
        "while i <= n:\n",
        "    fact *= i\n",
        "    i += 1\n",
        "print(\"Factorial:\", fact)"
      ],
      "metadata": {
        "colab": {
          "base_uri": "https://localhost:8080/"
        },
        "id": "bJSqjDDAtAm8",
        "outputId": "f6ea03f8-f2a2-48ba-d128-e1562e72c3bc"
      },
      "execution_count": 17,
      "outputs": [
        {
          "output_type": "stream",
          "name": "stdout",
          "text": [
            "Enter a number: 5\n",
            "Factorial: 120\n"
          ]
        }
      ]
    }
  ]
}