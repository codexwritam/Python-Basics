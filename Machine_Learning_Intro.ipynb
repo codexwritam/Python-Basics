{
  "nbformat": 4,
  "nbformat_minor": 0,
  "metadata": {
    "colab": {
      "provenance": []
    },
    "kernelspec": {
      "name": "python3",
      "display_name": "Python 3"
    },
    "language_info": {
      "name": "python"
    }
  },
  "cells": [
    {
      "cell_type": "markdown",
      "source": [
        "1. Differences between AI, ML, DL, DS\n",
        "\n",
        "- Artificial Intelligence (AI): Big umbrella—build systems that act intelligently (reasoning, planning, perception, language, robotics).\n",
        "\n",
        "- Machine Learning (ML): Subset of AI—algorithms learn patterns from data to make predictions/decisions.\n",
        "\n",
        "- Deep Learning (DL): Subset of ML—neural networks with many layers that learn complex features automatically (images, speech, NLP).\n",
        "\n",
        "- Data Science (DS): End-to-end practice—collect, clean, explore, model, and communicate insights from data (uses statistics + ML + engineering + domain knowledge).\n",
        "\n",
        "2. Types of machine learning (with 1 example each)\n",
        "\n",
        "- Supervised learning: Learn from labeled data (X → y).\n",
        "  - Example: Predict house prices from features (regression); classify spam emails (classification).\n",
        "\n",
        "- Unsupervised learning: Find structure in unlabeled data.\n",
        "  - Example: Customer segmentation with K-Means.\n",
        "\n",
        "- Semi-supervised learning: Train with a small set of labels + many unlabeled points.\n",
        "  - Example: Classifying webpages where only a few are labeled.\n",
        "\n",
        "- Reinforcement learning: Agent learns by interacting with an environment to maximize reward.\n",
        "  - Example: A robot learning to walk; game-playing agents (e.g., chess).\n",
        "\n",
        "3. Overfitting, Underfitting, Bias–Variance tradeoff\n",
        "\n",
        "- Overfitting: Model learns noise; great on train, poor on test (too complex, high variance).\n",
        "\n",
        "- Underfitting: Model too simple; poor on both train and test (high bias).\n",
        "\n",
        "- Bias–Variance tradeoff: Increasing model complexity usually lowers bias but raises variance; goal is a sweet spot with low total error (good generalization).\n",
        "\n",
        "4. Outliers + three handling techniques\n",
        "\n",
        "- Outliers: Unusually large/small values relative to the rest of the data.\n",
        "Three common ways to handle them:\n",
        "\n",
        "  - IQR rule: cap/remove values outside\n",
        "[𝑄1−1.5⋅𝐼𝑄𝑅,  𝑄3+1.5⋅𝐼𝑄𝑅].\n",
        "\n",
        "  - Z-score filtering: flag values with ∣z∣>3 (or chosen threshold).\n",
        "\n",
        "- Winsorization/Capping: replace extremes with chosen percentiles (e.g., 1st/99th).\n",
        "(Other options: transform—log, Box-Cox; robust models; Isolation Forest.)\n",
        "\n",
        "5. Handling missing values (+ one imputation each)\n",
        "\n",
        "- Process: detect → quantify → understand mechanism (MCAR/MAR/MNAR) → decide (drop vs. impute) → fit imputer on train only → transform train/test consistently → document.\n",
        "\n",
        "- Numeric imputation (one choice): median imputation (robust to outliers).\n",
        "\n",
        "- Categorical imputation (one choice): fill with mode or add an \"Unknown\" category."
      ],
      "metadata": {
        "id": "yDegKoOs-nof"
      }
    },
    {
      "cell_type": "code",
      "source": [
        "#6. Write a Python program that:\n",
        "# ● Creates a synthetic imbalanced dataset with make_classification() from\n",
        "# sklearn.datasets.\n",
        "# ● Prints the class distribution.\n",
        "from sklearn.datasets import make_classification\n",
        "import numpy as np\n",
        "\n",
        "X, y = make_classification(n_samples=1000, n_features=10, n_informative=4,\n",
        "                           n_redundant=2, weights=[0.95, 0.05],\n",
        "                           n_clusters_per_class=1, flip_y=0.01, random_state=42)\n",
        "(unique, counts) = np.unique(y, return_counts=True)\n",
        "print(dict(zip(unique, counts)))\n",
        "\n"
      ],
      "metadata": {
        "colab": {
          "base_uri": "https://localhost:8080/"
        },
        "id": "LLl05XzxLs5u",
        "outputId": "fd56b0e0-cb5d-445e-cfa9-feeb51da08d8"
      },
      "execution_count": 1,
      "outputs": [
        {
          "output_type": "stream",
          "name": "stdout",
          "text": [
            "{np.int64(0): np.int64(942), np.int64(1): np.int64(58)}\n"
          ]
        }
      ]
    },
    {
      "cell_type": "code",
      "source": [
        "#7. Implement one-hot encoding using pandas for the following list of colors:\n",
        "# ['Red', 'Green', 'Blue', 'Green', 'Red']. Print the resulting dataframe.\n",
        "import pandas as pd\n",
        "colors = ['Red', 'Green', 'Blue', 'Green', 'Red']\n",
        "one_hot = pd.get_dummies(pd.Series(colors, name=\"Color\"), prefix='Color')\n",
        "print(one_hot)\n"
      ],
      "metadata": {
        "colab": {
          "base_uri": "https://localhost:8080/"
        },
        "id": "iUs8yt1LL4YX",
        "outputId": "486f56c1-7a0e-48dd-91a3-bd3ebdcc3523"
      },
      "execution_count": 2,
      "outputs": [
        {
          "output_type": "stream",
          "name": "stdout",
          "text": [
            "   Color_Blue  Color_Green  Color_Red\n",
            "0       False        False       True\n",
            "1       False         True      False\n",
            "2        True        False      False\n",
            "3       False         True      False\n",
            "4       False        False       True\n"
          ]
        }
      ]
    },
    {
      "cell_type": "code",
      "source": [
        "# 8. Write a Python script to:\n",
        "# ● Generate 1000 samples from a normal distribution.\n",
        "# ● Introduce 50 random missing values.\n",
        "# ● Fill missing values with the column mean.\n",
        "# ● Plot a histogram before and after imputation.\n",
        "# (Include your Python code and output in the code box below.)\n",
        "import numpy as np, matplotlib.pyplot as plt\n",
        "\n",
        "np.random.seed(0)\n",
        "data = np.random.normal(0, 1, 1000)\n",
        "idx = np.random.choice(np.arange(1000), 50, replace=False)\n",
        "data_nan = data.copy(); data_nan[idx] = np.nan\n",
        "\n",
        "mean_val = np.nanmean(data_nan)\n",
        "data_imp = data_nan.copy(); data_imp[np.isnan(data_imp)] = mean_val\n",
        "\n",
        "print(\"Missing before:\", np.isnan(data_nan).sum())\n",
        "print(\"Missing after:\", np.isnan(data_imp).sum())\n",
        "print(\"Mean used:\", float(mean_val))\n",
        "\n",
        "plt.figure(); plt.hist(data_nan[~np.isnan(data_nan)], bins=30)\n",
        "plt.title(\"Histogram before imputation\"); plt.xlabel(\"Value\"); plt.ylabel(\"Frequency\"); plt.show()\n",
        "\n",
        "plt.figure(); plt.hist(data_imp, bins=30)\n",
        "plt.title(\"Histogram after mean imputation\"); plt.xlabel(\"Value\"); plt.ylabel(\"Frequency\"); plt.show()\n"
      ],
      "metadata": {
        "colab": {
          "base_uri": "https://localhost:8080/",
          "height": 979
        },
        "id": "W5Oz8gFCMGPD",
        "outputId": "f601829e-918c-41d6-8a88-bff1a60324b0"
      },
      "execution_count": 3,
      "outputs": [
        {
          "output_type": "stream",
          "name": "stdout",
          "text": [
            "Missing before: 50\n",
            "Missing after: 0\n",
            "Mean used: -0.04208369455948478\n"
          ]
        },
        {
          "output_type": "display_data",
          "data": {
            "text/plain": [
              "<Figure size 640x480 with 1 Axes>"
            ],
            "image/png": "[encoded data removed]"
          },
          "metadata": {}
        },
        {
          "output_type": "display_data",
          "data": {
            "text/plain": [
              "<Figure size 640x480 with 1 Axes>"
            ],
            "image/png": "[encoded data removed]"
          },
          "metadata": {}
        }
      ]
    },
    {
      "cell_type": "code",
      "source": [
        "# 9. Implement Min-Max scaling on the following list of numbers [2, 5, 10, 15,\n",
        "# 20] using sklearn.preprocessing.MinMaxScaler. Print the scaled array.\n",
        "from sklearn.preprocessing import MinMaxScaler\n",
        "import numpy as np\n",
        "\n",
        "arr = np.array([[2],[5],[10],[15],[20]])\n",
        "scaled = MinMaxScaler().fit_transform(arr)\n",
        "print(scaled.flatten())\n"
      ],
      "metadata": {
        "colab": {
          "base_uri": "https://localhost:8080/"
        },
        "id": "TTIt2zewMYN0",
        "outputId": "5f466d1f-f2fc-4273-a49d-6aa729e19974"
      },
      "execution_count": 4,
      "outputs": [
        {
          "output_type": "stream",
          "name": "stdout",
          "text": [
            "[0.         0.16666667 0.44444444 0.72222222 1.        ]\n"
          ]
        }
      ]
    },
    {
      "cell_type": "markdown",
      "source": [
        "10. You are working as a data scientist for a retail company. You receive a customer\n",
        "transaction dataset that contains:\n",
        "● Missing ages,\n",
        "● Outliers in transaction amount,\n",
        "● A highly imbalanced target (fraud vs. non-fraud),\n",
        "● Categorical variables like payment method.\n",
        "Explain the step-by-step data preparation plan you’d follow before training a machine learning\n",
        "model. Include how you’d address missing data, outliers, imbalance, and encoding.\n",
        " - 1. Split first (prevent leakage): train/validation/test with stratification on fraud label; if time-ordered, use time-based split.\n",
        "\n",
        " - 2. EDA & sanity checks: class balance, missingness map, variable types, ranges. Use robust summaries (median/IQR) for amounts.\n",
        "\n",
        " - 3. Missing ages:\n",
        "\n",
        "     - Inspect pattern by features (e.g., age missing more in a payment type?).\n",
        "\n",
        "     - Simple baseline: median age by customer segment (e.g., by gender/region).\n",
        "\n",
        "     - Advanced: model-based imputation (e.g., KNN or iterative imputer). Add an “age_missing” flag.\n",
        "\n",
        "  - 4. Outliers in transaction amount:\n",
        "\n",
        "     - Visualize (hist, boxplot).\n",
        "\n",
        "     - Log-transform amounts (amount’ = log(1 + amount)).\n",
        "\n",
        "     - Cap/winsorize at, say, 1st/99th percentiles on the training set only; keep the capping params to apply to val/test.\n",
        "\n",
        "     - Consider RobustScaler instead of StandardScaler.\n",
        "\n",
        "   - 5. Imbalanced target (fraud vs non-fraud):\n",
        "\n",
        "     - Use stratified CV, appropriate metrics (PR-AUC, ROC-AUC, F1, recall at fixed precision).\n",
        "\n",
        "     - Try class_weight='balanced' (tree/linear models).\n",
        "\n",
        "     - Try resampling on the training folds only: SMOTE / RandomUnderSampler or a combo (SMOTEENN).\n",
        "\n",
        "     - Calibrate threshold for business goal (e.g., maximize recall at 95% precision).\n",
        "\n",
        "  - 6. Categorical variables (e.g., payment method):\n",
        "\n",
        "     - Low cardinality: one-hot encode.\n",
        "\n",
        "     - High cardinality: target encoding or leave-one-out (with CV to avoid leakage).\n",
        "\n",
        "      - Keep an “Unknown” bucket for rare/new categories.\n",
        "\n",
        "  - 7. Feature scaling:\n",
        "\n",
        "     - Scale numeric features (StandardScaler or RobustScaler post-log).\n",
        "\n",
        "     - Don’t scale tree models if not needed, but keep consistent preprocessing via a pipeline.\n",
        "\n",
        "  - 8. Pipelines to avoid leakage:\n",
        "\n",
        "     - Use ColumnTransformer + Pipeline to chain: imputation → encoding/scaling → model.\n",
        "\n",
        "     - Fit all transformers only on training data; apply to val/test.\n",
        "\n",
        "  - 9. Modeling & tuning:\n",
        "\n",
        "     - Start with baseline (Logistic Regression, XGBoost/LightGBM).\n",
        "\n",
        "     - Hyper-tune with stratified CV; evaluate with chosen metrics; monitor feature importance/SHAP.\n",
        "\n",
        "  - 10. Finalize & monitor:\n",
        "\n",
        "     - Retrain on train+val with best pipeline, evaluate on hold-out test; save pipeline; set up drift/threshold monitoring."
      ],
      "metadata": {
        "id": "8Mt5Lkl5MkXz"
      }
    }
  ]
}