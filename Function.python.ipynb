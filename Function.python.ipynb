{
  "nbformat": 4,
  "nbformat_minor": 0,
  "metadata": {
    "colab": {
      "provenance": []
    },
    "kernelspec": {
      "name": "python3",
      "display_name": "Python 3"
    },
    "language_info": {
      "name": "python"
    }
  },
  "cells": [
    {
      "cell_type": "markdown",
      "source": [
        "## 1. What is the difference between a function and a method in Python?\n",
        "\n",
        "A **function** is a block of reusable block of code designed to perform a specific task. It serves to encapsulate a set of instructions, making code more organized, readable, and efficient by reducing redundancy.\n",
        "\n",
        "A **method** is a function that belongs to a class and operates on instances (objects) of that class. It defines the behavior and actions that objects of a particular class can perform.\n",
        "\n",
        "**Example:**\n",
        "```python\n",
        "# Function\n",
        "def greet():\n",
        "    return \"Hello!\"\n",
        "\n",
        "print(greet())\n",
        "\n",
        "# Method\n",
        "text = \"python\"\n",
        "print(text.upper())  # upper() is a string method\n"
      ],
      "metadata": {
        "id": "Ui4FnpCQ3QWh"
      }
    },
    {
      "cell_type": "markdown",
      "source": [
        "## 2. Explain the concept of function arguments and parameters in Python.\n",
        "Parameter: Variable in the function definition.\n",
        "\n",
        "Argument: Value passed when calling the function.\n",
        "\n",
        "**Example:**\n",
        "```python\n",
        "# Function\n",
        "\n",
        "def add(a, b):  # 'a' and 'b' are parameters\n",
        "    return a + b\n",
        "\n",
        "print(add(5, 10))  # 5 and 10 are arguments\n"
      ],
      "metadata": {
        "id": "RlV6KQXB5ijh"
      }
    },
    {
      "cell_type": "markdown",
      "source": [
        "## 3. What are the different ways to define and call a function in Python?\n",
        "Simple function\n",
        "\n",
        "Function with default arguments\n",
        "\n",
        "Keyword arguments\n",
        "\n",
        "Variable length arguments\n",
        "\n",
        "**Example:**\n",
        "```python\n",
        "def greet(name=\"Guest\"):\n",
        "    print(\"Hello\", name)\n",
        "\n",
        "greet(\"Writam\")         # Positional\n",
        "greet(name=\"Python\")    # Keyword\n",
        "greet()                 # Default argument\n",
        "       "
      ],
      "metadata": {
        "id": "kyYeKyFQ6HeR"
      }
    },
    {
      "cell_type": "markdown",
      "source": [
        "## 4. What is the purpose of the return statement in a Python function?\n",
        "The return statement sends a value back to the caller and ends the function.\n",
        "\n",
        "**Example:**\n",
        "```python\n",
        "def square(x):\n",
        "    return x * x\n",
        "\n",
        "result = square(4)\n",
        "print(result)  # Output: 16\n"
      ],
      "metadata": {
        "id": "VxV9hf4xxjLx"
      }
    },
    {
      "cell_type": "markdown",
      "source": [
        "## 5. What are iterators in Python and how do they differ from iterables?\n",
        "Iterable: Can return an iterator (e.g. list, tuple).\n",
        "\n",
        "Iterator: An object with __next__() method.\n",
        "\n",
        "**Example:**\n",
        "```python\n",
        "nums = [1, 2, 3]\n",
        "it = iter(nums)      # Creating an iterator\n",
        "\n",
        "print(next(it))      # Output: 1\n",
        "print(next(it))      # Output: 2\n"
      ],
      "metadata": {
        "id": "psH8Gudpx92A"
      }
    },
    {
      "cell_type": "markdown",
      "source": [
        "## 6. Explain the concept of generators in Python and how they are defined.\n",
        "Generators are a type of iterator defined using a function with the yield keyword.\n",
        "They generate values one at a time (lazy evaluation).\n",
        "\n",
        "**Example**\n",
        "```python\n",
        "def count_up_to(n):\n",
        "    i = 1\n",
        "    while i <= n:\n",
        "        yield i\n",
        "        i += 1\n",
        "\n",
        "for num in count_up_to(3):\n",
        "    print(num)\n",
        "\n"
      ],
      "metadata": {
        "id": "ENmXtzh4yUO4"
      }
    },
    {
      "cell_type": "markdown",
      "source": [
        "## 7. What are the advantages of using generators over regular functions?\n",
        "Memory efficient (do not store all values)\n",
        "\n",
        "Faster with large data\n",
        "\n",
        "Easy to implement with yield"
      ],
      "metadata": {
        "id": "VWhwCZlIyx2z"
      }
    },
    {
      "cell_type": "markdown",
      "source": [
        "## 8. What is a lambda function in Python and when is it typically used?\n",
        "A lambda function is an anonymous function defined using the lambda keyword.\n",
        "It is used for short, one-time functions like in map(), filter(), etc.\n",
        "\n",
        "**Example**\n",
        "```python\n",
        "square = lambda x: x * x\n",
        "print(square(5))  # Output: 25\n",
        "\n"
      ],
      "metadata": {
        "id": "W2L4SGb3y98V"
      }
    },
    {
      "cell_type": "markdown",
      "source": [
        "## 9. Explain the purpose and usage of the map() function in Python.\n",
        "map() applies a function to each item in an iterable and returns a map object.\n",
        "**Syntax:** map(function, iterable)\n",
        "\n",
        "**Example**\n",
        "```python\n",
        "nums = [1, 2, 3]\n",
        "squared = list(map(lambda x: x**2, nums))\n",
        "print(squared)  # Output: [1, 4, 9]\n",
        "\n",
        "\n"
      ],
      "metadata": {
        "id": "__pgQU7qzKoU"
      }
    },
    {
      "cell_type": "markdown",
      "source": [
        "## 10. What is the difference between map(), reduce(), and filter() functions in Python?\n",
        "\n",
        "| Function   | Description                     | Example                                     |\n",
        "| ---------- | ------------------------------- | ------------------------------------------- |\n",
        "| `map()`    | Applies a function to all items | `map(lambda x: x*2, [1,2,3])` → `[2,4,6]`   |\n",
        "| `filter()` | Filters values that return True | `filter(lambda x: x%2==0, [1,2,3])` → `[2]` |\n",
        "| `reduce()` | Reduces to single value         | `reduce(lambda x,y: x+y, [1,2,3])` → `6`    |\n",
        "\n"
      ],
      "metadata": {
        "id": "ERqk2Teq0E4y"
      }
    },
    {
      "cell_type": "markdown",
      "source": [
        "## 11. Using pen & paper write the internal mechanism for sum operation using reduce function on this given list: [47,11,42,13]\n",
        "\n",
        "**List: [47, 11, 42, 13]**\n",
        "```python\n",
        "from functools import reduce\n",
        "\n",
        "nums = [47, 11, 42, 13]\n",
        "result = reduce(lambda x, y: x + y, nums)\n",
        "print(result)\n",
        "\n",
        "Step-by-step working:\n",
        "1. 47 + 11 = 58\n",
        "2. 58 + 42 = 100\n",
        "3. 100 + 13 = 113\n",
        "\n"
      ],
      "metadata": {
        "id": "wtdDXz0P0TtZ"
      }
    },
    {
      "cell_type": "code",
      "source": [
        "## 1. Write a Python function that takes a list of numbers as input and returns the sum of all even numbers in the list.\n",
        "\n",
        "def sum_even_numbers(numbers):\n",
        "    return sum(num for num in numbers if num % 2 == 0)\n",
        "\n",
        "print(sum_even_numbers([1, 2, 3, 4, 5, 6]))\n"
      ],
      "metadata": {
        "colab": {
          "base_uri": "https://localhost:8080/"
        },
        "id": "dqslwITM1fGl",
        "outputId": "0db876f4-7cba-4be0-f239-819065364011"
      },
      "execution_count": 13,
      "outputs": [
        {
          "output_type": "stream",
          "name": "stdout",
          "text": [
            "12\n"
          ]
        }
      ]
    },
    {
      "cell_type": "code",
      "source": [
        "##2. Create a Python function that accepts a string and returns the reverse of that string.\n",
        "def reverse_string(s):\n",
        "    return s[::-1]\n",
        "\n",
        "print(reverse_string(\"python\"))"
      ],
      "metadata": {
        "colab": {
          "base_uri": "https://localhost:8080/"
        },
        "id": "oJSIVoZ34OEh",
        "outputId": "d7a4e520-bd80-4e98-eea0-a68042d91193"
      },
      "execution_count": 11,
      "outputs": [
        {
          "output_type": "stream",
          "name": "stdout",
          "text": [
            "nohtyp\n"
          ]
        }
      ]
    },
    {
      "cell_type": "code",
      "source": [
        "##3. Implement a Python function that takes a list of integers and returns a new list containing the squares of each number.\n",
        "def square_list(lst):\n",
        "    return [x ** 2 for x in lst]\n",
        "\n",
        "print(square_list([1, 2, 3]))\n",
        "\n"
      ],
      "metadata": {
        "colab": {
          "base_uri": "https://localhost:8080/"
        },
        "id": "WzjTejm64eWZ",
        "outputId": "bc137972-5648-4eb7-f20d-eae696a0e874"
      },
      "execution_count": 12,
      "outputs": [
        {
          "output_type": "stream",
          "name": "stdout",
          "text": [
            "[1, 4, 9]\n"
          ]
        }
      ]
    },
    {
      "cell_type": "code",
      "source": [
        "##4. Write a Python function that checks if a given number is prime or not from 1 to 200.\n",
        "def is_prime(n):\n",
        "    if n <= 1:\n",
        "        return False\n",
        "    for i in range(2, int(n**0.5)+1):\n",
        "        if n % i == 0:\n",
        "            return False\n",
        "    return True\n",
        "\n",
        "\n",
        "print(is_prime(97))\n",
        "\n"
      ],
      "metadata": {
        "colab": {
          "base_uri": "https://localhost:8080/"
        },
        "id": "eZ-oTYFx4oxX",
        "outputId": "17369efb-4e77-465d-eed8-35cfca1a8c1c"
      },
      "execution_count": 10,
      "outputs": [
        {
          "output_type": "stream",
          "name": "stdout",
          "text": [
            "True\n"
          ]
        }
      ]
    },
    {
      "cell_type": "code",
      "source": [
        "##5. Create an iterator class in Python that generates the Fibonacci sequence up to a specified number of terms.\n",
        "class Fibonacci:\n",
        "    def __init__(self, max_terms):\n",
        "        self.max_terms = max_terms\n",
        "        self.a, self.b = 0, 1\n",
        "        self.count = 0\n",
        "\n",
        "    def __iter__(self):\n",
        "        return self\n",
        "\n",
        "    def __next__(self):\n",
        "        if self.count >= self.max_terms:\n",
        "            raise StopIteration\n",
        "        self.count += 1\n",
        "        result = self.a\n",
        "        self.a, self.b = self.b, self.a + self.b\n",
        "        return result\n",
        "\n",
        "for num in Fibonacci(5):\n",
        "    print(num)\n"
      ],
      "metadata": {
        "colab": {
          "base_uri": "https://localhost:8080/"
        },
        "id": "l0lZrYKB43_t",
        "outputId": "81bb6d4b-5a6d-44a6-c51b-96a3e70aaebc"
      },
      "execution_count": 9,
      "outputs": [
        {
          "output_type": "stream",
          "name": "stdout",
          "text": [
            "0\n",
            "1\n",
            "1\n",
            "2\n",
            "3\n"
          ]
        }
      ]
    },
    {
      "cell_type": "code",
      "source": [
        "##6. Write a generator function in Python that yields the powers of 2 up to a given exponent.\n",
        "def powers_of_two(n):\n",
        "    for i in range(n + 1):\n",
        "        yield 2 ** i\n",
        "\n",
        "print(list(powers_of_two(4)))\n"
      ],
      "metadata": {
        "colab": {
          "base_uri": "https://localhost:8080/"
        },
        "id": "PX6Rf2y65A9-",
        "outputId": "b0905438-c10e-481d-c1b0-d6621c249c2d"
      },
      "execution_count": 8,
      "outputs": [
        {
          "output_type": "stream",
          "name": "stdout",
          "text": [
            "[1, 2, 4, 8, 16]\n"
          ]
        }
      ]
    },
    {
      "cell_type": "code",
      "source": [
        "##7. Implement a generator function that reads a file line by line and yields each line as a string.\n",
        "def line_reader(lines):\n",
        "    for line in lines:\n",
        "        yield line\n",
        "demo_lines = [\"Line 1\", \"Line 2\", \"Line 3\"]\n",
        "for l in line_reader(demo_lines):\n",
        "    print(l)\n"
      ],
      "metadata": {
        "colab": {
          "base_uri": "https://localhost:8080/"
        },
        "id": "dMQN0dD15Jk0",
        "outputId": "d42dcaa0-1cb5-48b9-aa04-22ce5aaeb10e"
      },
      "execution_count": 7,
      "outputs": [
        {
          "output_type": "stream",
          "name": "stdout",
          "text": [
            "Line 1\n",
            "Line 2\n",
            "Line 3\n"
          ]
        }
      ]
    },
    {
      "cell_type": "code",
      "source": [
        "##8. Use a lambda function in Python to sort a list of tuples based on the second element of each tuple.\n",
        "data = [(1, 3), (2, 1), (4, 2)]\n",
        "sorted_data = sorted(data, key=lambda x: x[1])\n",
        "print(sorted_data)\n"
      ],
      "metadata": {
        "colab": {
          "base_uri": "https://localhost:8080/"
        },
        "id": "nWQWNy7r5UY3",
        "outputId": "30f21166-47e4-4e70-bfe4-dcda356a8cf2"
      },
      "execution_count": 6,
      "outputs": [
        {
          "output_type": "stream",
          "name": "stdout",
          "text": [
            "[(2, 1), (4, 2), (1, 3)]\n"
          ]
        }
      ]
    },
    {
      "cell_type": "code",
      "source": [
        "##9. Write a Python program that uses map() to convert a list of temperatures from Celsius to Fahrenheit.\n",
        "celsius = [0, 10, 20, 30]\n",
        "fahrenheit = list(map(lambda c: (c * 9/5) + 32, celsius))\n",
        "print(fahrenheit)"
      ],
      "metadata": {
        "colab": {
          "base_uri": "https://localhost:8080/"
        },
        "id": "6ShBlw8A5e7T",
        "outputId": "fcc1a297-b6d9-4e98-9b8f-9c7351f1c011"
      },
      "execution_count": 5,
      "outputs": [
        {
          "output_type": "stream",
          "name": "stdout",
          "text": [
            "[32.0, 50.0, 68.0, 86.0]\n"
          ]
        }
      ]
    },
    {
      "cell_type": "code",
      "source": [
        "##10. Create a Python program that uses filter() to remove all the vowels from a given string.\n",
        "def remove_vowels(s):\n",
        "    return ''.join(filter(lambda x: x.lower() not in \"aeiou\", s))\n",
        "\n",
        "print(remove_vowels(\"Hello World\"))\n"
      ],
      "metadata": {
        "colab": {
          "base_uri": "https://localhost:8080/"
        },
        "id": "TJlxp33y5qok",
        "outputId": "3a09385f-11e6-44ae-bd62-af7802501595"
      },
      "execution_count": 4,
      "outputs": [
        {
          "output_type": "stream",
          "name": "stdout",
          "text": [
            "Hll Wrld\n"
          ]
        }
      ]
    },
    {
      "cell_type": "code",
      "source": [
        "##11. Book shop accounting program using lambda and map.\n",
        "data = [\n",
        "    [34587, \"Learning Python, Mark Lutz\", 4, 40.95],\n",
        "    [98762, \"Programming Python, Mark Lutz\", 5, 56.80],\n",
        "    [77226, \"Head First Python, Paul Barry\", 3, 32.95],\n",
        "    [88112, \"Einführung in Python3, Bernd Klein\", 3, 24.99]\n",
        "]\n",
        "result = list(map(\n",
        "    lambda order: (order[0], order[2] * order[3] if order[2] * order[3] >= 100 else order[2] * order[3] + 10),\n",
        "    data\n",
        "))\n",
        "\n",
        "print(result)"
      ],
      "metadata": {
        "colab": {
          "base_uri": "https://localhost:8080/"
        },
        "id": "s3Sfq9o357GD",
        "outputId": "2b329289-1cc8-4957-fe22-215b6eca4935"
      },
      "execution_count": 3,
      "outputs": [
        {
          "output_type": "stream",
          "name": "stdout",
          "text": [
            "[(34587, 163.8), (98762, 284.0), (77226, 108.85000000000001), (88112, 84.97)]\n"
          ]
        }
      ]
    }
  ]
}